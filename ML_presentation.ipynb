{
 "cells": [
  {
   "attachments": {},
   "cell_type": "markdown",
   "metadata": {},
   "source": [
    "#### **Introduction to Machine Learning**"
   ]
  },
  {
   "attachments": {},
   "cell_type": "markdown",
   "metadata": {},
   "source": [
    "1. [**Starting with Jupyter Notebook**](./notebooks/starting_with_jupyter.ipynb)\n",
    "\n",
    "2. [**Python Fundamentals I**](./notebooks/Python_fundamentals_I.ipynb)\n",
    "\n",
    "3. [**Python Fundamentals II**](./notebooks/Python_fundamentals_II.ipynb)\n",
    "\n",
    "4. [**Python Fundamentals III**](./notebooks/Python_fundamentals_III.ipynb)\n",
    "\n",
    "5. [**Numpy for Machine Learning**](./notebooks/Numpy.ipynb)\n",
    "\n",
    "6. [**Data Processing with Pandas**](./notebooks/Pandas.ipynb)\n",
    "\n",
    "7. [**Visualization with Matplotlib**](./notebooks/Matplotlib.ipynb)\n",
    "\n",
    "8. [**Machine Learning with Scikit-learn**](./notebooks/ML_with_sklearn.ipynb)"
   ]
  }
 ],
 "metadata": {
  "kernelspec": {
   "display_name": "code-env",
   "language": "python",
   "name": "python3"
  },
  "language_info": {
   "name": "python",
   "version": "3.9.13"
  },
  "orig_nbformat": 4
 },
 "nbformat": 4,
 "nbformat_minor": 2
}
