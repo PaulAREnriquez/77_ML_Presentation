{
 "cells": [
  {
   "attachments": {},
   "cell_type": "markdown",
   "metadata": {},
   "source": [
    "#### **Introduction to Machine Learning**"
   ]
  },
  {
   "attachments": {},
   "cell_type": "markdown",
   "metadata": {},
   "source": [
    "1. [**Python Fundamentals I**](./notebooks/Python_fundamentals_I.ipynb)\n",
    "2. [**Python Fundamentals II**](./notebooks/Python_fundamentals_II.ipynb)\n",
    "\n",
    "3. [**Numpy for Machine Learning**](./notebooks/Numpy.ipynb)\n",
    "\n",
    "4. [**Data Processing with Pandas**](./notebooks/Pandas.ipynb)\n",
    "\n",
    "5. [**Visualization with Matplotlib**](./notebooks/Matplotlib.ipynb)\n",
    "\n",
    "6. [**Machine Learning with Scikit-learn**](./notebooks/ML_with_sklearn.ipynb)"
   ]
  }
 ],
 "metadata": {
  "kernelspec": {
   "display_name": "code-env",
   "language": "python",
   "name": "python3"
  },
  "language_info": {
   "name": "python",
   "version": "3.9.13"
  },
  "orig_nbformat": 4
 },
 "nbformat": 4,
 "nbformat_minor": 2
}
