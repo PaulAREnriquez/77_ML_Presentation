{
 "cells": [
  {
   "cell_type": "markdown",
   "id": "7f27dec3",
   "metadata": {},
   "source": [
    "# Object-oriented Programming"
   ]
  },
  {
   "cell_type": "markdown",
   "id": "8266d717",
   "metadata": {},
   "source": [
    "## Writing a class"
   ]
  },
  {
   "cell_type": "code",
   "execution_count": 1,
   "id": "0de6b07d",
   "metadata": {},
   "outputs": [],
   "source": [
    "class Dog:\n",
    "    \n",
    "    def __init__(self, name, age, breed):\n",
    "        self.name = name\n",
    "        self.age = age\n",
    "        self.breed = breed\n",
    "    \n",
    "    def bark(self):\n",
    "        print(\"arf arf\")        "
   ]
  },
  {
   "cell_type": "markdown",
   "id": "a168c6c4",
   "metadata": {},
   "source": [
    "**Attribute(s)**\n",
    "\n",
    "1.\n",
    "2.\n",
    "3.\n",
    "\n",
    "**Method(s)**\n",
    "\n",
    "1."
   ]
  },
  {
   "cell_type": "markdown",
   "id": "7d2db21b",
   "metadata": {},
   "source": [
    "## Instantiating an object"
   ]
  },
  {
   "cell_type": "code",
   "execution_count": 2,
   "id": "19df396d",
   "metadata": {},
   "outputs": [
    {
     "ename": "TypeError",
     "evalue": "__init__() missing 3 required positional arguments: 'name', 'age', and 'breed'",
     "output_type": "error",
     "traceback": [
      "\u001b[1;31m---------------------------------------------------------------------------\u001b[0m",
      "\u001b[1;31mTypeError\u001b[0m                                 Traceback (most recent call last)",
      "Cell \u001b[1;32mIn[2], line 1\u001b[0m\n\u001b[1;32m----> 1\u001b[0m dog \u001b[38;5;241m=\u001b[39m \u001b[43mDog\u001b[49m\u001b[43m(\u001b[49m\n\u001b[0;32m      2\u001b[0m \u001b[43m    \u001b[49m\u001b[38;5;66;43;03m# name,\u001b[39;49;00m\n\u001b[0;32m      3\u001b[0m \u001b[43m    \u001b[49m\u001b[38;5;66;43;03m# age,\u001b[39;49;00m\n\u001b[0;32m      4\u001b[0m \u001b[43m    \u001b[49m\u001b[38;5;66;43;03m# breed,\u001b[39;49;00m\n\u001b[0;32m      5\u001b[0m \u001b[43m)\u001b[49m\n",
      "\u001b[1;31mTypeError\u001b[0m: __init__() missing 3 required positional arguments: 'name', 'age', and 'breed'"
     ]
    }
   ],
   "source": [
    "dog = Dog(\n",
    "    # name,\n",
    "    # age,\n",
    "    # breed,\n",
    ")"
   ]
  },
  {
   "cell_type": "markdown",
   "id": "39695b5e",
   "metadata": {},
   "source": [
    "## Accessing the attributes and methods"
   ]
  },
  {
   "cell_type": "code",
   "execution_count": null,
   "id": "979a2d1a",
   "metadata": {},
   "outputs": [],
   "source": [
    "dog.name"
   ]
  },
  {
   "cell_type": "code",
   "execution_count": null,
   "id": "1292ffeb",
   "metadata": {},
   "outputs": [],
   "source": [
    "dog.age"
   ]
  },
  {
   "cell_type": "code",
   "execution_count": null,
   "id": "6e2d1768",
   "metadata": {},
   "outputs": [],
   "source": [
    "dog.breed"
   ]
  },
  {
   "cell_type": "code",
   "execution_count": null,
   "id": "580c346c",
   "metadata": {},
   "outputs": [],
   "source": [
    "dog.bark()"
   ]
  },
  {
   "cell_type": "markdown",
   "id": "b29ea592",
   "metadata": {},
   "source": [
    "## OOP Principles"
   ]
  },
  {
   "cell_type": "markdown",
   "id": "377b06b9",
   "metadata": {},
   "source": [
    "### 1. Abstraction"
   ]
  },
  {
   "cell_type": "code",
   "execution_count": null,
   "id": "ad188f75",
   "metadata": {},
   "outputs": [],
   "source": [
    "class Dog:\n",
    "    \n",
    "    def __init__(self, name, age, breed):\n",
    "        self.name = name\n",
    "        self.age = age\n",
    "        self.breed = breed\n",
    "        self.weight = 1\n",
    "        \n",
    "    def bark(self):\n",
    "        print('arf arf')\n",
    "        \n",
    "    def eat(self, food):\n",
    "        # insert statement\n",
    "        # insert statement\n",
    "        # insert statement\n",
    "        self.weight += 1\n",
    "\n",
    "dog = Dog(\n",
    "    # name,\n",
    "    # age,\n",
    "    # breed,\n",
    ")\n",
    "\n",
    "dog.eat(\n",
    "    # food\n",
    ")\n",
    "dog.weight"
   ]
  },
  {
   "cell_type": "markdown",
   "id": "cea64097",
   "metadata": {},
   "source": [
    "### 2. Encapsulation"
   ]
  },
  {
   "cell_type": "code",
   "execution_count": null,
   "id": "065100da",
   "metadata": {},
   "outputs": [],
   "source": [
    "class Dog:\n",
    "    \n",
    "    def __init__(self, name, age, breed):\n",
    "        self.name = name\n",
    "        self.age = age\n",
    "        self.breed = breed\n",
    "        self.weight = 1\n",
    "        \n",
    "    def set_address(self, address):\n",
    "        self.__address = address\n",
    "    \n",
    "    def get_address(self):\n",
    "        return self.__address\n",
    "        \n",
    "    def bark(self):\n",
    "        print('arf arf')\n",
    "\n",
    "dog = Dog(\n",
    "    # name,\n",
    "    # age,\n",
    "    # breed,\n",
    ")"
   ]
  },
  {
   "cell_type": "code",
   "execution_count": null,
   "id": "3ad4fc47",
   "metadata": {},
   "outputs": [],
   "source": [
    "# this works but should not be done due to convention\n",
    "dog.__address = 'ph'\n",
    "dog.__address"
   ]
  },
  {
   "cell_type": "code",
   "execution_count": null,
   "id": "9da1fb7a",
   "metadata": {},
   "outputs": [],
   "source": [
    "# this is the proper way\n",
    "dog.set_address('ph')\n",
    "dog.get_address()"
   ]
  },
  {
   "cell_type": "markdown",
   "id": "622ac5bb",
   "metadata": {},
   "source": [
    "### 3. Inheritance"
   ]
  },
  {
   "cell_type": "code",
   "execution_count": null,
   "id": "223d568d",
   "metadata": {},
   "outputs": [],
   "source": [
    "class Animal:\n",
    "    \n",
    "    def __init__(self, name, age):\n",
    "        # insert code here\n",
    "    \n",
    "    def walk(self):\n",
    "        print('this animal is walking')\n",
    "\n",
    "        \n",
    "class Dog(Animal):\n",
    "    \n",
    "    def __init__(self, name, age, breed):\n",
    "        super().__init__(name, age)\n",
    "        self.breed = breed\n",
    "    \n",
    "    def bark(self):\n",
    "        print('arf arf')\n",
    "\n",
    "        \n",
    "dog = Dog(\n",
    "    # name,\n",
    "    # age,\n",
    "    # breed,\n",
    ")"
   ]
  },
  {
   "cell_type": "code",
   "execution_count": null,
   "id": "1576f1a6",
   "metadata": {},
   "outputs": [],
   "source": [
    "# make the dog walk\n",
    "# insert code here"
   ]
  },
  {
   "cell_type": "markdown",
   "id": "22b1de99",
   "metadata": {},
   "source": [
    "### 4. Polymorphism"
   ]
  },
  {
   "cell_type": "code",
   "execution_count": null,
   "id": "b587cfb8",
   "metadata": {},
   "outputs": [],
   "source": [
    "class Animal:\n",
    "    \n",
    "    def __init__(self, name, age):\n",
    "        # insert code here\n",
    "    \n",
    "    def walk(self):\n",
    "        print('this animal is walking')\n",
    "\n",
    "        \n",
    "class Dog(Animal):\n",
    "    \n",
    "    def __init__(self, name, age, breed):\n",
    "        super().__init__(name, age)\n",
    "        self.breed = breed\n",
    "    \n",
    "    def bark(self):\n",
    "        print('arf arf')\n",
    "\n",
    "\n",
    "class Fish(Animal):\n",
    "    \n",
    "    def walk(self):\n",
    "        print('fish cannot walk')\n",
    "\n",
    "        \n",
    "dog = Dog(\n",
    "    # name,\n",
    "    # age,\n",
    "    # breed,\n",
    ")\n",
    "\n",
    "fish = Fish(\n",
    "    # name,\n",
    "    # age,\n",
    ")"
   ]
  },
  {
   "cell_type": "code",
   "execution_count": null,
   "id": "9d5e70ee",
   "metadata": {},
   "outputs": [],
   "source": [
    "# make the animals walk \n",
    "animals = [dog, fish]\n",
    "for animal in animals:\n",
    "    # insert code here"
   ]
  }
 ],
 "metadata": {
  "kernelspec": {
   "display_name": "Python 3 (ipykernel)",
   "language": "python",
   "name": "python3"
  },
  "language_info": {
   "codemirror_mode": {
    "name": "ipython",
    "version": 3
   },
   "file_extension": ".py",
   "mimetype": "text/x-python",
   "name": "python",
   "nbconvert_exporter": "python",
   "pygments_lexer": "ipython3",
   "version": "3.9.12"
  }
 },
 "nbformat": 4,
 "nbformat_minor": 5
}
