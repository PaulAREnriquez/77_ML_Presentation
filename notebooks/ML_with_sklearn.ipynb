{
 "cells": [
  {
   "attachments": {},
   "cell_type": "markdown",
   "metadata": {},
   "source": [
    "## Installation\n",
    "\n",
    "`pip install scikit-learn`\n"
   ]
  },
  {
   "attachments": {},
   "cell_type": "markdown",
   "metadata": {},
   "source": [
    "####  **Loading Datasets**\n",
    "\n",
    "Accessing SKLearn Datasets"
   ]
  },
  {
   "cell_type": "code",
   "execution_count": 1,
   "metadata": {},
   "outputs": [],
   "source": [
    "# import libraries\n",
    "from sklearn.datasets import fetch_california_housing\n",
    "\n",
    "# load dataset\n",
    "housing = fetch_california_housing()"
   ]
  },
  {
   "cell_type": "code",
   "execution_count": 2,
   "metadata": {},
   "outputs": [
    {
     "data": {
      "text/plain": [
       "dict_keys(['data', 'target', 'frame', 'target_names', 'feature_names', 'DESCR'])"
      ]
     },
     "execution_count": 2,
     "metadata": {},
     "output_type": "execute_result"
    }
   ],
   "source": [
    "# dataset attributes can be accessed by using \"housing.key\" syntax\n",
    "# ex. housing.data\n",
    "\n",
    "# check the keys\n",
    "housing.keys()"
   ]
  },
  {
   "cell_type": "code",
   "execution_count": 3,
   "metadata": {},
   "outputs": [
    {
     "name": "stdout",
     "output_type": "stream",
     "text": [
      ".. _california_housing_dataset:\n",
      "\n",
      "California Housing dataset\n",
      "--------------------------\n",
      "\n",
      "**Data Set Characteristics:**\n",
      "\n",
      "    :Number of Instances: 20640\n",
      "\n",
      "    :Number of Attributes: 8 numeric, predictive attributes and the target\n",
      "\n",
      "    :Attribute Information:\n",
      "        - MedInc        median income in block group\n",
      "        - HouseAge      median house age in block group\n",
      "        - AveRooms      average number of rooms per household\n",
      "        - AveBedrms     average number of bedrooms per household\n",
      "        - Population    block group population\n",
      "        - AveOccup      average number of household members\n",
      "        - Latitude      block group latitude\n",
      "        - Longitude     block group longitude\n",
      "\n",
      "    :Missing Attribute Values: None\n",
      "\n",
      "This dataset was obtained from the StatLib repository.\n",
      "https://www.dcc.fc.up.pt/~ltorgo/Regression/cal_housing.html\n",
      "\n",
      "The target variable is the median house value for California districts,\n",
      "expressed in hundreds of thousands of dollars ($100,000).\n",
      "\n",
      "This dataset was derived from the 1990 U.S. census, using one row per census\n",
      "block group. A block group is the smallest geographical unit for which the U.S.\n",
      "Census Bureau publishes sample data (a block group typically has a population\n",
      "of 600 to 3,000 people).\n",
      "\n",
      "An household is a group of people residing within a home. Since the average\n",
      "number of rooms and bedrooms in this dataset are provided per household, these\n",
      "columns may take surpinsingly large values for block groups with few households\n",
      "and many empty houses, such as vacation resorts.\n",
      "\n",
      "It can be downloaded/loaded using the\n",
      ":func:`sklearn.datasets.fetch_california_housing` function.\n",
      "\n",
      ".. topic:: References\n",
      "\n",
      "    - Pace, R. Kelley and Ronald Barry, Sparse Spatial Autoregressions,\n",
      "      Statistics and Probability Letters, 33 (1997) 291-297\n",
      "\n"
     ]
    }
   ],
   "source": [
    "print(housing.DESCR)"
   ]
  },
  {
   "attachments": {},
   "cell_type": "markdown",
   "metadata": {},
   "source": [
    "#### **Visualize data with pandas**"
   ]
  },
  {
   "cell_type": "code",
   "execution_count": 4,
   "metadata": {},
   "outputs": [],
   "source": [
    "#convert dataset to pandas dataframe \n",
    "import pandas as pd\n",
    "\n",
    "housing_features = pd.DataFrame(housing.data, columns = housing.feature_names)\n",
    "housing_target = pd.DataFrame(housing.target, columns = housing.target_names)"
   ]
  },
  {
   "cell_type": "code",
   "execution_count": 5,
   "metadata": {},
   "outputs": [
    {
     "data": {
      "text/html": [
       "<div>\n",
       "<style scoped>\n",
       "    .dataframe tbody tr th:only-of-type {\n",
       "        vertical-align: middle;\n",
       "    }\n",
       "\n",
       "    .dataframe tbody tr th {\n",
       "        vertical-align: top;\n",
       "    }\n",
       "\n",
       "    .dataframe thead th {\n",
       "        text-align: right;\n",
       "    }\n",
       "</style>\n",
       "<table border=\"1\" class=\"dataframe\">\n",
       "  <thead>\n",
       "    <tr style=\"text-align: right;\">\n",
       "      <th></th>\n",
       "      <th>MedInc</th>\n",
       "      <th>HouseAge</th>\n",
       "      <th>AveRooms</th>\n",
       "      <th>AveBedrms</th>\n",
       "      <th>Population</th>\n",
       "      <th>AveOccup</th>\n",
       "      <th>Latitude</th>\n",
       "      <th>Longitude</th>\n",
       "    </tr>\n",
       "  </thead>\n",
       "  <tbody>\n",
       "    <tr>\n",
       "      <th>0</th>\n",
       "      <td>8.3252</td>\n",
       "      <td>41.0</td>\n",
       "      <td>6.984127</td>\n",
       "      <td>1.023810</td>\n",
       "      <td>322.0</td>\n",
       "      <td>2.555556</td>\n",
       "      <td>37.88</td>\n",
       "      <td>-122.23</td>\n",
       "    </tr>\n",
       "    <tr>\n",
       "      <th>1</th>\n",
       "      <td>8.3014</td>\n",
       "      <td>21.0</td>\n",
       "      <td>6.238137</td>\n",
       "      <td>0.971880</td>\n",
       "      <td>2401.0</td>\n",
       "      <td>2.109842</td>\n",
       "      <td>37.86</td>\n",
       "      <td>-122.22</td>\n",
       "    </tr>\n",
       "    <tr>\n",
       "      <th>2</th>\n",
       "      <td>7.2574</td>\n",
       "      <td>52.0</td>\n",
       "      <td>8.288136</td>\n",
       "      <td>1.073446</td>\n",
       "      <td>496.0</td>\n",
       "      <td>2.802260</td>\n",
       "      <td>37.85</td>\n",
       "      <td>-122.24</td>\n",
       "    </tr>\n",
       "    <tr>\n",
       "      <th>3</th>\n",
       "      <td>5.6431</td>\n",
       "      <td>52.0</td>\n",
       "      <td>5.817352</td>\n",
       "      <td>1.073059</td>\n",
       "      <td>558.0</td>\n",
       "      <td>2.547945</td>\n",
       "      <td>37.85</td>\n",
       "      <td>-122.25</td>\n",
       "    </tr>\n",
       "    <tr>\n",
       "      <th>4</th>\n",
       "      <td>3.8462</td>\n",
       "      <td>52.0</td>\n",
       "      <td>6.281853</td>\n",
       "      <td>1.081081</td>\n",
       "      <td>565.0</td>\n",
       "      <td>2.181467</td>\n",
       "      <td>37.85</td>\n",
       "      <td>-122.25</td>\n",
       "    </tr>\n",
       "  </tbody>\n",
       "</table>\n",
       "</div>"
      ],
      "text/plain": [
       "   MedInc  HouseAge  AveRooms  AveBedrms  Population  AveOccup  Latitude  \\\n",
       "0  8.3252      41.0  6.984127   1.023810       322.0  2.555556     37.88   \n",
       "1  8.3014      21.0  6.238137   0.971880      2401.0  2.109842     37.86   \n",
       "2  7.2574      52.0  8.288136   1.073446       496.0  2.802260     37.85   \n",
       "3  5.6431      52.0  5.817352   1.073059       558.0  2.547945     37.85   \n",
       "4  3.8462      52.0  6.281853   1.081081       565.0  2.181467     37.85   \n",
       "\n",
       "   Longitude  \n",
       "0    -122.23  \n",
       "1    -122.22  \n",
       "2    -122.24  \n",
       "3    -122.25  \n",
       "4    -122.25  "
      ]
     },
     "execution_count": 5,
     "metadata": {},
     "output_type": "execute_result"
    }
   ],
   "source": [
    "#first five rows of features dataframe\n",
    "housing_features.head()"
   ]
  },
  {
   "cell_type": "code",
   "execution_count": 6,
   "metadata": {},
   "outputs": [
    {
     "data": {
      "text/html": [
       "<div>\n",
       "<style scoped>\n",
       "    .dataframe tbody tr th:only-of-type {\n",
       "        vertical-align: middle;\n",
       "    }\n",
       "\n",
       "    .dataframe tbody tr th {\n",
       "        vertical-align: top;\n",
       "    }\n",
       "\n",
       "    .dataframe thead th {\n",
       "        text-align: right;\n",
       "    }\n",
       "</style>\n",
       "<table border=\"1\" class=\"dataframe\">\n",
       "  <thead>\n",
       "    <tr style=\"text-align: right;\">\n",
       "      <th></th>\n",
       "      <th>MedHouseVal</th>\n",
       "    </tr>\n",
       "  </thead>\n",
       "  <tbody>\n",
       "    <tr>\n",
       "      <th>20635</th>\n",
       "      <td>0.781</td>\n",
       "    </tr>\n",
       "    <tr>\n",
       "      <th>20636</th>\n",
       "      <td>0.771</td>\n",
       "    </tr>\n",
       "    <tr>\n",
       "      <th>20637</th>\n",
       "      <td>0.923</td>\n",
       "    </tr>\n",
       "    <tr>\n",
       "      <th>20638</th>\n",
       "      <td>0.847</td>\n",
       "    </tr>\n",
       "    <tr>\n",
       "      <th>20639</th>\n",
       "      <td>0.894</td>\n",
       "    </tr>\n",
       "  </tbody>\n",
       "</table>\n",
       "</div>"
      ],
      "text/plain": [
       "       MedHouseVal\n",
       "20635        0.781\n",
       "20636        0.771\n",
       "20637        0.923\n",
       "20638        0.847\n",
       "20639        0.894"
      ]
     },
     "execution_count": 6,
     "metadata": {},
     "output_type": "execute_result"
    }
   ],
   "source": [
    "#last five rows of target dataframe\n",
    "housing_target.tail()"
   ]
  },
  {
   "attachments": {},
   "cell_type": "markdown",
   "metadata": {},
   "source": [
    "#### **Splitting the dataset**"
   ]
  },
  {
   "cell_type": "code",
   "execution_count": 7,
   "metadata": {},
   "outputs": [],
   "source": [
    "from sklearn.model_selection import train_test_split\n",
    "\n",
    "x_train, x_test, y_train, y_test = train_test_split(\n",
    "    housing_features, housing_target, test_size = 0.2, random_state=17)"
   ]
  },
  {
   "cell_type": "code",
   "execution_count": 8,
   "metadata": {},
   "outputs": [
    {
     "data": {
      "text/plain": [
       "(4128, 8)"
      ]
     },
     "execution_count": 8,
     "metadata": {},
     "output_type": "execute_result"
    }
   ],
   "source": [
    "x_test.shape"
   ]
  },
  {
   "attachments": {},
   "cell_type": "markdown",
   "metadata": {},
   "source": [
    "#### **Preprocessing the Data**\n",
    "\n",
    "Use scaling on the features."
   ]
  },
  {
   "cell_type": "code",
   "execution_count": 9,
   "metadata": {},
   "outputs": [
    {
     "data": {
      "text/plain": [
       "array([-0.39246695, -0.36951118, -0.30697974, -0.15641875,  0.75335057,\n",
       "       -0.04151475,  0.60672192, -1.08718874])"
      ]
     },
     "execution_count": 9,
     "metadata": {},
     "output_type": "execute_result"
    }
   ],
   "source": [
    "from sklearn.preprocessing import StandardScaler\n",
    "\n",
    "scaler = StandardScaler()\n",
    "\n",
    "x_train = scaler.fit_transform(x_train)\n",
    "\n",
    "x_test = scaler.transform(x_test)\n",
    "\n",
    "x_train[0]"
   ]
  },
  {
   "attachments": {},
   "cell_type": "markdown",
   "metadata": {},
   "source": [
    "#### **Train the Model**"
   ]
  },
  {
   "cell_type": "code",
   "execution_count": 10,
   "metadata": {},
   "outputs": [],
   "source": [
    "# regression models\n",
    "\n",
    "# from sklearn.tree import DecisionTreeRegressor\n",
    "# from sklearn.ensemble import RandomForestRegressor\n",
    "# from sklearn.svm import SVR\n",
    "from sklearn.linear_model import LinearRegression"
   ]
  },
  {
   "cell_type": "code",
   "execution_count": 31,
   "metadata": {},
   "outputs": [
    {
     "data": {
      "text/plain": [
       "array([[2.88043644],\n",
       "       [0.96921103],\n",
       "       [1.43158959],\n",
       "       ...,\n",
       "       [1.92963008],\n",
       "       [2.78231091],\n",
       "       [1.29594526]])"
      ]
     },
     "execution_count": 31,
     "metadata": {},
     "output_type": "execute_result"
    }
   ],
   "source": [
    "#load model\n",
    "model = LinearRegression()\n",
    "\n",
    "#fit/train model\n",
    "model.fit(x_train, y_train)\n",
    "\n",
    "#make predictions (0:malignant, 1:benign)\n",
    "predictions = model.predict(x_test)\n",
    "\n",
    "predictions"
   ]
  },
  {
   "cell_type": "code",
   "execution_count": 14,
   "metadata": {},
   "outputs": [
    {
     "data": {
      "text/plain": [
       "array([[2.88043644],\n",
       "       [0.96921103],\n",
       "       [1.43158959],\n",
       "       ...,\n",
       "       [1.92963008],\n",
       "       [2.78231091],\n",
       "       [1.29594526]])"
      ]
     },
     "execution_count": 14,
     "metadata": {},
     "output_type": "execute_result"
    }
   ],
   "source": [
    "predictions"
   ]
  },
  {
   "attachments": {},
   "cell_type": "markdown",
   "metadata": {},
   "source": [
    "#### **Evaluate the model**"
   ]
  },
  {
   "cell_type": "code",
   "execution_count": 25,
   "metadata": {},
   "outputs": [
    {
     "name": "stdout",
     "output_type": "stream",
     "text": [
      "0.6027364496734411\n"
     ]
    }
   ],
   "source": [
    "from sklearn.metrics import r2_score\n",
    "\n",
    "print(r2_score(y_test, predictions))"
   ]
  },
  {
   "attachments": {},
   "cell_type": "markdown",
   "metadata": {},
   "source": [
    "#### **Model Persistence / Saving and reloading the model**"
   ]
  },
  {
   "cell_type": "code",
   "execution_count": 29,
   "metadata": {},
   "outputs": [
    {
     "data": {
      "text/plain": [
       "['../models/linear_reg_model.joblib']"
      ]
     },
     "execution_count": 29,
     "metadata": {},
     "output_type": "execute_result"
    }
   ],
   "source": [
    "import joblib\n",
    "\n",
    "joblib.dump(model, '../models/linear_reg_model.joblib')"
   ]
  },
  {
   "cell_type": "code",
   "execution_count": 30,
   "metadata": {},
   "outputs": [
    {
     "data": {
      "text/html": [
       "<style>#sk-container-id-1 {color: black;background-color: white;}#sk-container-id-1 pre{padding: 0;}#sk-container-id-1 div.sk-toggleable {background-color: white;}#sk-container-id-1 label.sk-toggleable__label {cursor: pointer;display: block;width: 100%;margin-bottom: 0;padding: 0.3em;box-sizing: border-box;text-align: center;}#sk-container-id-1 label.sk-toggleable__label-arrow:before {content: \"▸\";float: left;margin-right: 0.25em;color: #696969;}#sk-container-id-1 label.sk-toggleable__label-arrow:hover:before {color: black;}#sk-container-id-1 div.sk-estimator:hover label.sk-toggleable__label-arrow:before {color: black;}#sk-container-id-1 div.sk-toggleable__content {max-height: 0;max-width: 0;overflow: hidden;text-align: left;background-color: #f0f8ff;}#sk-container-id-1 div.sk-toggleable__content pre {margin: 0.2em;color: black;border-radius: 0.25em;background-color: #f0f8ff;}#sk-container-id-1 input.sk-toggleable__control:checked~div.sk-toggleable__content {max-height: 200px;max-width: 100%;overflow: auto;}#sk-container-id-1 input.sk-toggleable__control:checked~label.sk-toggleable__label-arrow:before {content: \"▾\";}#sk-container-id-1 div.sk-estimator input.sk-toggleable__control:checked~label.sk-toggleable__label {background-color: #d4ebff;}#sk-container-id-1 div.sk-label input.sk-toggleable__control:checked~label.sk-toggleable__label {background-color: #d4ebff;}#sk-container-id-1 input.sk-hidden--visually {border: 0;clip: rect(1px 1px 1px 1px);clip: rect(1px, 1px, 1px, 1px);height: 1px;margin: -1px;overflow: hidden;padding: 0;position: absolute;width: 1px;}#sk-container-id-1 div.sk-estimator {font-family: monospace;background-color: #f0f8ff;border: 1px dotted black;border-radius: 0.25em;box-sizing: border-box;margin-bottom: 0.5em;}#sk-container-id-1 div.sk-estimator:hover {background-color: #d4ebff;}#sk-container-id-1 div.sk-parallel-item::after {content: \"\";width: 100%;border-bottom: 1px solid gray;flex-grow: 1;}#sk-container-id-1 div.sk-label:hover label.sk-toggleable__label {background-color: #d4ebff;}#sk-container-id-1 div.sk-serial::before {content: \"\";position: absolute;border-left: 1px solid gray;box-sizing: border-box;top: 0;bottom: 0;left: 50%;z-index: 0;}#sk-container-id-1 div.sk-serial {display: flex;flex-direction: column;align-items: center;background-color: white;padding-right: 0.2em;padding-left: 0.2em;position: relative;}#sk-container-id-1 div.sk-item {position: relative;z-index: 1;}#sk-container-id-1 div.sk-parallel {display: flex;align-items: stretch;justify-content: center;background-color: white;position: relative;}#sk-container-id-1 div.sk-item::before, #sk-container-id-1 div.sk-parallel-item::before {content: \"\";position: absolute;border-left: 1px solid gray;box-sizing: border-box;top: 0;bottom: 0;left: 50%;z-index: -1;}#sk-container-id-1 div.sk-parallel-item {display: flex;flex-direction: column;z-index: 1;position: relative;background-color: white;}#sk-container-id-1 div.sk-parallel-item:first-child::after {align-self: flex-end;width: 50%;}#sk-container-id-1 div.sk-parallel-item:last-child::after {align-self: flex-start;width: 50%;}#sk-container-id-1 div.sk-parallel-item:only-child::after {width: 0;}#sk-container-id-1 div.sk-dashed-wrapped {border: 1px dashed gray;margin: 0 0.4em 0.5em 0.4em;box-sizing: border-box;padding-bottom: 0.4em;background-color: white;}#sk-container-id-1 div.sk-label label {font-family: monospace;font-weight: bold;display: inline-block;line-height: 1.2em;}#sk-container-id-1 div.sk-label-container {text-align: center;}#sk-container-id-1 div.sk-container {/* jupyter's `normalize.less` sets `[hidden] { display: none; }` but bootstrap.min.css set `[hidden] { display: none !important; }` so we also need the `!important` here to be able to override the default hidden behavior on the sphinx rendered scikit-learn.org. See: https://github.com/scikit-learn/scikit-learn/issues/21755 */display: inline-block !important;position: relative;}#sk-container-id-1 div.sk-text-repr-fallback {display: none;}</style><div id=\"sk-container-id-1\" class=\"sk-top-container\"><div class=\"sk-text-repr-fallback\"><pre>LinearRegression()</pre><b>In a Jupyter environment, please rerun this cell to show the HTML representation or trust the notebook. <br />On GitHub, the HTML representation is unable to render, please try loading this page with nbviewer.org.</b></div><div class=\"sk-container\" hidden><div class=\"sk-item\"><div class=\"sk-estimator sk-toggleable\"><input class=\"sk-toggleable__control sk-hidden--visually\" id=\"sk-estimator-id-1\" type=\"checkbox\" checked><label for=\"sk-estimator-id-1\" class=\"sk-toggleable__label sk-toggleable__label-arrow\">LinearRegression</label><div class=\"sk-toggleable__content\"><pre>LinearRegression()</pre></div></div></div></div></div>"
      ],
      "text/plain": [
       "LinearRegression()"
      ]
     },
     "execution_count": 30,
     "metadata": {},
     "output_type": "execute_result"
    }
   ],
   "source": [
    "model = joblib.load('../models/linear_reg_model.joblib')\n",
    "\n",
    "model"
   ]
  },
  {
   "attachments": {},
   "cell_type": "markdown",
   "metadata": {},
   "source": [
    "#### **Classification Example**"
   ]
  },
  {
   "attachments": {},
   "cell_type": "markdown",
   "metadata": {},
   "source": [
    "#### **Load dataset**"
   ]
  },
  {
   "cell_type": "code",
   "execution_count": 32,
   "metadata": {},
   "outputs": [],
   "source": [
    "redwine_x = pd.read_csv(\"../datasets/redwine_x.csv\")\n",
    "redwine_y = pd.read_csv(\"../datasets/redwine_y.csv\")"
   ]
  },
  {
   "cell_type": "code",
   "execution_count": 33,
   "metadata": {},
   "outputs": [
    {
     "data": {
      "text/html": [
       "<div>\n",
       "<style scoped>\n",
       "    .dataframe tbody tr th:only-of-type {\n",
       "        vertical-align: middle;\n",
       "    }\n",
       "\n",
       "    .dataframe tbody tr th {\n",
       "        vertical-align: top;\n",
       "    }\n",
       "\n",
       "    .dataframe thead th {\n",
       "        text-align: right;\n",
       "    }\n",
       "</style>\n",
       "<table border=\"1\" class=\"dataframe\">\n",
       "  <thead>\n",
       "    <tr style=\"text-align: right;\">\n",
       "      <th></th>\n",
       "      <th>fixed acidity</th>\n",
       "      <th>volatile acidity</th>\n",
       "      <th>citric acid</th>\n",
       "      <th>residual sugar</th>\n",
       "      <th>chlorides</th>\n",
       "      <th>free sulfur dioxide</th>\n",
       "      <th>total sulfur dioxide</th>\n",
       "      <th>density</th>\n",
       "      <th>pH</th>\n",
       "      <th>sulphates</th>\n",
       "      <th>alcohol</th>\n",
       "    </tr>\n",
       "  </thead>\n",
       "  <tbody>\n",
       "    <tr>\n",
       "      <th>0</th>\n",
       "      <td>0.690265</td>\n",
       "      <td>0.157534</td>\n",
       "      <td>0.49</td>\n",
       "      <td>0.116438</td>\n",
       "      <td>0.111853</td>\n",
       "      <td>0.366197</td>\n",
       "      <td>0.222615</td>\n",
       "      <td>0.685022</td>\n",
       "      <td>0.299213</td>\n",
       "      <td>0.251497</td>\n",
       "      <td>0.307692</td>\n",
       "    </tr>\n",
       "    <tr>\n",
       "      <th>1</th>\n",
       "      <td>0.185841</td>\n",
       "      <td>0.431507</td>\n",
       "      <td>0.01</td>\n",
       "      <td>0.102740</td>\n",
       "      <td>0.110184</td>\n",
       "      <td>0.225352</td>\n",
       "      <td>0.091873</td>\n",
       "      <td>0.398678</td>\n",
       "      <td>0.637795</td>\n",
       "      <td>0.167665</td>\n",
       "      <td>0.676923</td>\n",
       "    </tr>\n",
       "    <tr>\n",
       "      <th>2</th>\n",
       "      <td>0.176991</td>\n",
       "      <td>0.349315</td>\n",
       "      <td>0.00</td>\n",
       "      <td>0.232877</td>\n",
       "      <td>0.135225</td>\n",
       "      <td>0.704225</td>\n",
       "      <td>0.252650</td>\n",
       "      <td>0.404552</td>\n",
       "      <td>0.362205</td>\n",
       "      <td>0.071856</td>\n",
       "      <td>0.169231</td>\n",
       "    </tr>\n",
       "    <tr>\n",
       "      <th>3</th>\n",
       "      <td>0.566372</td>\n",
       "      <td>0.123288</td>\n",
       "      <td>0.58</td>\n",
       "      <td>0.082192</td>\n",
       "      <td>0.070117</td>\n",
       "      <td>0.084507</td>\n",
       "      <td>0.045936</td>\n",
       "      <td>0.582232</td>\n",
       "      <td>0.448819</td>\n",
       "      <td>0.329341</td>\n",
       "      <td>0.323077</td>\n",
       "    </tr>\n",
       "    <tr>\n",
       "      <th>4</th>\n",
       "      <td>0.336283</td>\n",
       "      <td>0.428082</td>\n",
       "      <td>0.11</td>\n",
       "      <td>0.068493</td>\n",
       "      <td>0.130217</td>\n",
       "      <td>0.211268</td>\n",
       "      <td>0.201413</td>\n",
       "      <td>0.472100</td>\n",
       "      <td>0.354331</td>\n",
       "      <td>0.293413</td>\n",
       "      <td>0.184615</td>\n",
       "    </tr>\n",
       "  </tbody>\n",
       "</table>\n",
       "</div>"
      ],
      "text/plain": [
       "   fixed acidity  volatile acidity  citric acid  residual sugar  chlorides  \\\n",
       "0       0.690265          0.157534         0.49        0.116438   0.111853   \n",
       "1       0.185841          0.431507         0.01        0.102740   0.110184   \n",
       "2       0.176991          0.349315         0.00        0.232877   0.135225   \n",
       "3       0.566372          0.123288         0.58        0.082192   0.070117   \n",
       "4       0.336283          0.428082         0.11        0.068493   0.130217   \n",
       "\n",
       "   free sulfur dioxide  total sulfur dioxide   density        pH  sulphates  \\\n",
       "0             0.366197              0.222615  0.685022  0.299213   0.251497   \n",
       "1             0.225352              0.091873  0.398678  0.637795   0.167665   \n",
       "2             0.704225              0.252650  0.404552  0.362205   0.071856   \n",
       "3             0.084507              0.045936  0.582232  0.448819   0.329341   \n",
       "4             0.211268              0.201413  0.472100  0.354331   0.293413   \n",
       "\n",
       "    alcohol  \n",
       "0  0.307692  \n",
       "1  0.676923  \n",
       "2  0.169231  \n",
       "3  0.323077  \n",
       "4  0.184615  "
      ]
     },
     "execution_count": 33,
     "metadata": {},
     "output_type": "execute_result"
    }
   ],
   "source": [
    "redwine_x.head()"
   ]
  },
  {
   "cell_type": "code",
   "execution_count": 34,
   "metadata": {},
   "outputs": [
    {
     "data": {
      "text/html": [
       "<div>\n",
       "<style scoped>\n",
       "    .dataframe tbody tr th:only-of-type {\n",
       "        vertical-align: middle;\n",
       "    }\n",
       "\n",
       "    .dataframe tbody tr th {\n",
       "        vertical-align: top;\n",
       "    }\n",
       "\n",
       "    .dataframe thead th {\n",
       "        text-align: right;\n",
       "    }\n",
       "</style>\n",
       "<table border=\"1\" class=\"dataframe\">\n",
       "  <thead>\n",
       "    <tr style=\"text-align: right;\">\n",
       "      <th></th>\n",
       "      <th>label</th>\n",
       "    </tr>\n",
       "  </thead>\n",
       "  <tbody>\n",
       "    <tr>\n",
       "      <th>1066</th>\n",
       "      <td>6</td>\n",
       "    </tr>\n",
       "    <tr>\n",
       "      <th>1067</th>\n",
       "      <td>6</td>\n",
       "    </tr>\n",
       "    <tr>\n",
       "      <th>1068</th>\n",
       "      <td>5</td>\n",
       "    </tr>\n",
       "    <tr>\n",
       "      <th>1069</th>\n",
       "      <td>7</td>\n",
       "    </tr>\n",
       "    <tr>\n",
       "      <th>1070</th>\n",
       "      <td>6</td>\n",
       "    </tr>\n",
       "  </tbody>\n",
       "</table>\n",
       "</div>"
      ],
      "text/plain": [
       "      label\n",
       "1066      6\n",
       "1067      6\n",
       "1068      5\n",
       "1069      7\n",
       "1070      6"
      ]
     },
     "execution_count": 34,
     "metadata": {},
     "output_type": "execute_result"
    }
   ],
   "source": [
    "redwine_y.tail()"
   ]
  },
  {
   "attachments": {},
   "cell_type": "markdown",
   "metadata": {},
   "source": [
    "#### **Split the dataset**"
   ]
  },
  {
   "cell_type": "code",
   "execution_count": 35,
   "metadata": {},
   "outputs": [],
   "source": [
    "x_train, x_test, y_train, y_test = train_test_split(\n",
    "    redwine_x, redwine_y, test_size = 0.2, random_state=17)"
   ]
  },
  {
   "attachments": {},
   "cell_type": "markdown",
   "metadata": {},
   "source": [
    "#### **Train the model**"
   ]
  },
  {
   "cell_type": "code",
   "execution_count": 36,
   "metadata": {},
   "outputs": [],
   "source": [
    "#classification models\n",
    "\n",
    "from sklearn.tree import DecisionTreeClassifier\n",
    "# from sklearn.ensemble import RandomForestClassifier\n",
    "# from sklearn.neighbors import KNeighborsClassifier\n",
    "# from sklearn.svm import SVC\n",
    "# from sklearn.naive_bayes import GaussianNB\n",
    "# from sklearn.linear_model import LogisticRegression"
   ]
  },
  {
   "cell_type": "code",
   "execution_count": 40,
   "metadata": {},
   "outputs": [],
   "source": [
    "# Fitting the DecisionTreeClassifier\n",
    "dtree_model = DecisionTreeClassifier(random_state=10).fit(x_train, y_train)"
   ]
  },
  {
   "attachments": {},
   "cell_type": "markdown",
   "metadata": {},
   "source": [
    "#### **Evaluating the performance of the model using F1-score**"
   ]
  },
  {
   "cell_type": "code",
   "execution_count": 42,
   "metadata": {},
   "outputs": [
    {
     "name": "stdout",
     "output_type": "stream",
     "text": [
      "Initial F1 score: 0.2965068284440013\n"
     ]
    }
   ],
   "source": [
    "from sklearn.metrics import accuracy_score, f1_score\n",
    "\n",
    "dtree_predictions = dtree_model.predict(x_test)\n",
    "\n",
    "print(\"Initial F1 score: {}\".format(f1_score(y_test, dtree_predictions, average=\"macro\")))"
   ]
  },
  {
   "attachments": {},
   "cell_type": "markdown",
   "metadata": {},
   "source": [
    "The initial F1 score of the model without feature selection/engineering and hypertuning is around **`0.29`**."
   ]
  },
  {
   "attachments": {},
   "cell_type": "markdown",
   "metadata": {},
   "source": [
    "#### **Saving the model**"
   ]
  },
  {
   "cell_type": "code",
   "execution_count": 43,
   "metadata": {},
   "outputs": [
    {
     "data": {
      "text/plain": [
       "['../models/dtree_model.joblib']"
      ]
     },
     "execution_count": 43,
     "metadata": {},
     "output_type": "execute_result"
    }
   ],
   "source": [
    "import joblib\n",
    "\n",
    "joblib.dump(model, '../models/dtree_model.joblib')"
   ]
  },
  {
   "attachments": {},
   "cell_type": "markdown",
   "metadata": {},
   "source": [
    "#### **Feature Selection, Engineering and Hyperparameter Tuning**"
   ]
  },
  {
   "attachments": {},
   "cell_type": "markdown",
   "metadata": {},
   "source": [
    "#### **A. Normalization**"
   ]
  },
  {
   "cell_type": "code",
   "execution_count": 45,
   "metadata": {},
   "outputs": [
    {
     "data": {
      "text/html": [
       "<div>\n",
       "<style scoped>\n",
       "    .dataframe tbody tr th:only-of-type {\n",
       "        vertical-align: middle;\n",
       "    }\n",
       "\n",
       "    .dataframe tbody tr th {\n",
       "        vertical-align: top;\n",
       "    }\n",
       "\n",
       "    .dataframe thead th {\n",
       "        text-align: right;\n",
       "    }\n",
       "</style>\n",
       "<table border=\"1\" class=\"dataframe\">\n",
       "  <thead>\n",
       "    <tr style=\"text-align: right;\">\n",
       "      <th></th>\n",
       "      <th>fixed acidity</th>\n",
       "      <th>volatile acidity</th>\n",
       "      <th>citric acid</th>\n",
       "      <th>residual sugar</th>\n",
       "      <th>chlorides</th>\n",
       "      <th>free sulfur dioxide</th>\n",
       "      <th>total sulfur dioxide</th>\n",
       "      <th>density</th>\n",
       "      <th>pH</th>\n",
       "      <th>sulphates</th>\n",
       "      <th>alcohol</th>\n",
       "      <th>label</th>\n",
       "    </tr>\n",
       "  </thead>\n",
       "  <tbody>\n",
       "    <tr>\n",
       "      <th>0</th>\n",
       "      <td>0.690265</td>\n",
       "      <td>0.190083</td>\n",
       "      <td>0.49</td>\n",
       "      <td>0.116438</td>\n",
       "      <td>0.111853</td>\n",
       "      <td>0.388060</td>\n",
       "      <td>0.222615</td>\n",
       "      <td>0.685022</td>\n",
       "      <td>0.299213</td>\n",
       "      <td>0.233129</td>\n",
       "      <td>0.307692</td>\n",
       "      <td>0.6</td>\n",
       "    </tr>\n",
       "    <tr>\n",
       "      <th>1</th>\n",
       "      <td>0.185841</td>\n",
       "      <td>0.520661</td>\n",
       "      <td>0.01</td>\n",
       "      <td>0.102740</td>\n",
       "      <td>0.110184</td>\n",
       "      <td>0.238806</td>\n",
       "      <td>0.091873</td>\n",
       "      <td>0.398678</td>\n",
       "      <td>0.637795</td>\n",
       "      <td>0.147239</td>\n",
       "      <td>0.676923</td>\n",
       "      <td>0.6</td>\n",
       "    </tr>\n",
       "    <tr>\n",
       "      <th>2</th>\n",
       "      <td>0.176991</td>\n",
       "      <td>0.421488</td>\n",
       "      <td>0.00</td>\n",
       "      <td>0.232877</td>\n",
       "      <td>0.135225</td>\n",
       "      <td>0.746269</td>\n",
       "      <td>0.252650</td>\n",
       "      <td>0.404552</td>\n",
       "      <td>0.362205</td>\n",
       "      <td>0.049080</td>\n",
       "      <td>0.169231</td>\n",
       "      <td>0.4</td>\n",
       "    </tr>\n",
       "    <tr>\n",
       "      <th>3</th>\n",
       "      <td>0.566372</td>\n",
       "      <td>0.148760</td>\n",
       "      <td>0.58</td>\n",
       "      <td>0.082192</td>\n",
       "      <td>0.070117</td>\n",
       "      <td>0.089552</td>\n",
       "      <td>0.045936</td>\n",
       "      <td>0.582232</td>\n",
       "      <td>0.448819</td>\n",
       "      <td>0.312883</td>\n",
       "      <td>0.323077</td>\n",
       "      <td>0.8</td>\n",
       "    </tr>\n",
       "    <tr>\n",
       "      <th>4</th>\n",
       "      <td>0.336283</td>\n",
       "      <td>0.516529</td>\n",
       "      <td>0.11</td>\n",
       "      <td>0.068493</td>\n",
       "      <td>0.130217</td>\n",
       "      <td>0.223881</td>\n",
       "      <td>0.201413</td>\n",
       "      <td>0.472100</td>\n",
       "      <td>0.354331</td>\n",
       "      <td>0.276074</td>\n",
       "      <td>0.184615</td>\n",
       "      <td>0.4</td>\n",
       "    </tr>\n",
       "    <tr>\n",
       "      <th>...</th>\n",
       "      <td>...</td>\n",
       "      <td>...</td>\n",
       "      <td>...</td>\n",
       "      <td>...</td>\n",
       "      <td>...</td>\n",
       "      <td>...</td>\n",
       "      <td>...</td>\n",
       "      <td>...</td>\n",
       "      <td>...</td>\n",
       "      <td>...</td>\n",
       "      <td>...</td>\n",
       "      <td>...</td>\n",
       "    </tr>\n",
       "    <tr>\n",
       "      <th>1066</th>\n",
       "      <td>0.398230</td>\n",
       "      <td>0.396694</td>\n",
       "      <td>0.00</td>\n",
       "      <td>0.068493</td>\n",
       "      <td>0.076795</td>\n",
       "      <td>0.059701</td>\n",
       "      <td>0.014134</td>\n",
       "      <td>0.560206</td>\n",
       "      <td>0.346457</td>\n",
       "      <td>0.159509</td>\n",
       "      <td>0.307692</td>\n",
       "      <td>0.6</td>\n",
       "    </tr>\n",
       "    <tr>\n",
       "      <th>1067</th>\n",
       "      <td>0.318584</td>\n",
       "      <td>0.425620</td>\n",
       "      <td>0.10</td>\n",
       "      <td>0.082192</td>\n",
       "      <td>0.101836</td>\n",
       "      <td>0.358209</td>\n",
       "      <td>0.190813</td>\n",
       "      <td>0.463289</td>\n",
       "      <td>0.433071</td>\n",
       "      <td>0.233129</td>\n",
       "      <td>0.384615</td>\n",
       "      <td>0.6</td>\n",
       "    </tr>\n",
       "    <tr>\n",
       "      <th>1068</th>\n",
       "      <td>0.230088</td>\n",
       "      <td>0.413223</td>\n",
       "      <td>0.06</td>\n",
       "      <td>0.123288</td>\n",
       "      <td>0.108514</td>\n",
       "      <td>0.208955</td>\n",
       "      <td>0.279152</td>\n",
       "      <td>0.542584</td>\n",
       "      <td>0.606299</td>\n",
       "      <td>0.104294</td>\n",
       "      <td>0.169231</td>\n",
       "      <td>0.4</td>\n",
       "    </tr>\n",
       "    <tr>\n",
       "      <th>1069</th>\n",
       "      <td>0.292035</td>\n",
       "      <td>0.066116</td>\n",
       "      <td>0.35</td>\n",
       "      <td>0.054795</td>\n",
       "      <td>0.070117</td>\n",
       "      <td>0.089552</td>\n",
       "      <td>0.031802</td>\n",
       "      <td>0.331131</td>\n",
       "      <td>0.456693</td>\n",
       "      <td>0.263804</td>\n",
       "      <td>0.538462</td>\n",
       "      <td>0.8</td>\n",
       "    </tr>\n",
       "    <tr>\n",
       "      <th>1070</th>\n",
       "      <td>0.106195</td>\n",
       "      <td>0.140496</td>\n",
       "      <td>0.26</td>\n",
       "      <td>0.054795</td>\n",
       "      <td>0.085142</td>\n",
       "      <td>0.029851</td>\n",
       "      <td>0.017668</td>\n",
       "      <td>0.104993</td>\n",
       "      <td>0.511811</td>\n",
       "      <td>0.104294</td>\n",
       "      <td>0.784615</td>\n",
       "      <td>0.6</td>\n",
       "    </tr>\n",
       "  </tbody>\n",
       "</table>\n",
       "<p>1071 rows × 12 columns</p>\n",
       "</div>"
      ],
      "text/plain": [
       "      fixed acidity  volatile acidity  citric acid  residual sugar  chlorides  \\\n",
       "0          0.690265          0.190083         0.49        0.116438   0.111853   \n",
       "1          0.185841          0.520661         0.01        0.102740   0.110184   \n",
       "2          0.176991          0.421488         0.00        0.232877   0.135225   \n",
       "3          0.566372          0.148760         0.58        0.082192   0.070117   \n",
       "4          0.336283          0.516529         0.11        0.068493   0.130217   \n",
       "...             ...               ...          ...             ...        ...   \n",
       "1066       0.398230          0.396694         0.00        0.068493   0.076795   \n",
       "1067       0.318584          0.425620         0.10        0.082192   0.101836   \n",
       "1068       0.230088          0.413223         0.06        0.123288   0.108514   \n",
       "1069       0.292035          0.066116         0.35        0.054795   0.070117   \n",
       "1070       0.106195          0.140496         0.26        0.054795   0.085142   \n",
       "\n",
       "      free sulfur dioxide  total sulfur dioxide   density        pH  \\\n",
       "0                0.388060              0.222615  0.685022  0.299213   \n",
       "1                0.238806              0.091873  0.398678  0.637795   \n",
       "2                0.746269              0.252650  0.404552  0.362205   \n",
       "3                0.089552              0.045936  0.582232  0.448819   \n",
       "4                0.223881              0.201413  0.472100  0.354331   \n",
       "...                   ...                   ...       ...       ...   \n",
       "1066             0.059701              0.014134  0.560206  0.346457   \n",
       "1067             0.358209              0.190813  0.463289  0.433071   \n",
       "1068             0.208955              0.279152  0.542584  0.606299   \n",
       "1069             0.089552              0.031802  0.331131  0.456693   \n",
       "1070             0.029851              0.017668  0.104993  0.511811   \n",
       "\n",
       "      sulphates   alcohol  label  \n",
       "0      0.233129  0.307692    0.6  \n",
       "1      0.147239  0.676923    0.6  \n",
       "2      0.049080  0.169231    0.4  \n",
       "3      0.312883  0.323077    0.8  \n",
       "4      0.276074  0.184615    0.4  \n",
       "...         ...       ...    ...  \n",
       "1066   0.159509  0.307692    0.6  \n",
       "1067   0.233129  0.384615    0.6  \n",
       "1068   0.104294  0.169231    0.4  \n",
       "1069   0.263804  0.538462    0.8  \n",
       "1070   0.104294  0.784615    0.6  \n",
       "\n",
       "[1071 rows x 12 columns]"
      ]
     },
     "execution_count": 45,
     "metadata": {},
     "output_type": "execute_result"
    }
   ],
   "source": [
    "import seaborn as sns\n",
    "import matplotlib.pyplot as plt\n",
    "\n",
    "redwine_x = pd.read_csv(\"../datasets/redwine_x.csv\")\n",
    "redwine_y = pd.read_csv(\"../datasets/redwine_y.csv\")\n",
    "\n",
    "x = pd.concat([redwine_x, redwine_y['label']], axis=1)\n",
    "x['label'] = x['label'].astype('float')\n",
    "\n",
    "# Min-max Normalization\n",
    "x_normalized = (x - x.min()) / (x.max() - x.min())\n",
    "x_normalized"
   ]
  },
  {
   "attachments": {},
   "cell_type": "markdown",
   "metadata": {},
   "source": [
    "The values of every feature is now scaled **`between 0 and 1`**."
   ]
  },
  {
   "attachments": {},
   "cell_type": "markdown",
   "metadata": {},
   "source": [
    "#### **B. Feature Selection**"
   ]
  },
  {
   "attachments": {},
   "cell_type": "markdown",
   "metadata": {},
   "source": [
    "#### **Correlation heatmap**"
   ]
  },
  {
   "cell_type": "code",
   "execution_count": 46,
   "metadata": {},
   "outputs": [
    {
     "data": {
      "text/plain": [
       "<AxesSubplot: >"
      ]
     },
     "execution_count": 46,
     "metadata": {},
     "output_type": "execute_result"
    },
    {
     "data": {
      "image/png": "[encoded data removed]",
      "text/plain": [
       "<Figure size 640x480 with 2 Axes>"
      ]
     },
     "metadata": {},
     "output_type": "display_data"
    }
   ],
   "source": [
    "sns.heatmap(x_normalized.corr())"
   ]
  },
  {
   "attachments": {},
   "cell_type": "markdown",
   "metadata": {},
   "source": [
    "#### **Dropping some features**"
   ]
  },
  {
   "cell_type": "code",
   "execution_count": 47,
   "metadata": {},
   "outputs": [
    {
     "data": {
      "text/html": [
       "<div>\n",
       "<style scoped>\n",
       "    .dataframe tbody tr th:only-of-type {\n",
       "        vertical-align: middle;\n",
       "    }\n",
       "\n",
       "    .dataframe tbody tr th {\n",
       "        vertical-align: top;\n",
       "    }\n",
       "\n",
       "    .dataframe thead th {\n",
       "        text-align: right;\n",
       "    }\n",
       "</style>\n",
       "<table border=\"1\" class=\"dataframe\">\n",
       "  <thead>\n",
       "    <tr style=\"text-align: right;\">\n",
       "      <th></th>\n",
       "      <th>fixed acidity</th>\n",
       "      <th>volatile acidity</th>\n",
       "      <th>residual sugar</th>\n",
       "      <th>chlorides</th>\n",
       "      <th>total sulfur dioxide</th>\n",
       "      <th>pH</th>\n",
       "      <th>sulphates</th>\n",
       "      <th>alcohol</th>\n",
       "    </tr>\n",
       "  </thead>\n",
       "  <tbody>\n",
       "    <tr>\n",
       "      <th>0</th>\n",
       "      <td>0.690265</td>\n",
       "      <td>0.157534</td>\n",
       "      <td>0.116438</td>\n",
       "      <td>0.111853</td>\n",
       "      <td>0.222615</td>\n",
       "      <td>0.299213</td>\n",
       "      <td>0.251497</td>\n",
       "      <td>0.307692</td>\n",
       "    </tr>\n",
       "    <tr>\n",
       "      <th>1</th>\n",
       "      <td>0.185841</td>\n",
       "      <td>0.431507</td>\n",
       "      <td>0.102740</td>\n",
       "      <td>0.110184</td>\n",
       "      <td>0.091873</td>\n",
       "      <td>0.637795</td>\n",
       "      <td>0.167665</td>\n",
       "      <td>0.676923</td>\n",
       "    </tr>\n",
       "    <tr>\n",
       "      <th>2</th>\n",
       "      <td>0.176991</td>\n",
       "      <td>0.349315</td>\n",
       "      <td>0.232877</td>\n",
       "      <td>0.135225</td>\n",
       "      <td>0.252650</td>\n",
       "      <td>0.362205</td>\n",
       "      <td>0.071856</td>\n",
       "      <td>0.169231</td>\n",
       "    </tr>\n",
       "    <tr>\n",
       "      <th>3</th>\n",
       "      <td>0.566372</td>\n",
       "      <td>0.123288</td>\n",
       "      <td>0.082192</td>\n",
       "      <td>0.070117</td>\n",
       "      <td>0.045936</td>\n",
       "      <td>0.448819</td>\n",
       "      <td>0.329341</td>\n",
       "      <td>0.323077</td>\n",
       "    </tr>\n",
       "    <tr>\n",
       "      <th>4</th>\n",
       "      <td>0.336283</td>\n",
       "      <td>0.428082</td>\n",
       "      <td>0.068493</td>\n",
       "      <td>0.130217</td>\n",
       "      <td>0.201413</td>\n",
       "      <td>0.354331</td>\n",
       "      <td>0.293413</td>\n",
       "      <td>0.184615</td>\n",
       "    </tr>\n",
       "    <tr>\n",
       "      <th>...</th>\n",
       "      <td>...</td>\n",
       "      <td>...</td>\n",
       "      <td>...</td>\n",
       "      <td>...</td>\n",
       "      <td>...</td>\n",
       "      <td>...</td>\n",
       "      <td>...</td>\n",
       "      <td>...</td>\n",
       "    </tr>\n",
       "    <tr>\n",
       "      <th>1066</th>\n",
       "      <td>0.398230</td>\n",
       "      <td>0.328767</td>\n",
       "      <td>0.068493</td>\n",
       "      <td>0.076795</td>\n",
       "      <td>0.014134</td>\n",
       "      <td>0.346457</td>\n",
       "      <td>0.179641</td>\n",
       "      <td>0.307692</td>\n",
       "    </tr>\n",
       "    <tr>\n",
       "      <th>1067</th>\n",
       "      <td>0.318584</td>\n",
       "      <td>0.352740</td>\n",
       "      <td>0.082192</td>\n",
       "      <td>0.101836</td>\n",
       "      <td>0.190813</td>\n",
       "      <td>0.433071</td>\n",
       "      <td>0.251497</td>\n",
       "      <td>0.384615</td>\n",
       "    </tr>\n",
       "    <tr>\n",
       "      <th>1068</th>\n",
       "      <td>0.230088</td>\n",
       "      <td>0.342466</td>\n",
       "      <td>0.123288</td>\n",
       "      <td>0.108514</td>\n",
       "      <td>0.279152</td>\n",
       "      <td>0.606299</td>\n",
       "      <td>0.125749</td>\n",
       "      <td>0.169231</td>\n",
       "    </tr>\n",
       "    <tr>\n",
       "      <th>1069</th>\n",
       "      <td>0.292035</td>\n",
       "      <td>0.054795</td>\n",
       "      <td>0.054795</td>\n",
       "      <td>0.070117</td>\n",
       "      <td>0.031802</td>\n",
       "      <td>0.456693</td>\n",
       "      <td>0.281437</td>\n",
       "      <td>0.538462</td>\n",
       "    </tr>\n",
       "    <tr>\n",
       "      <th>1070</th>\n",
       "      <td>0.106195</td>\n",
       "      <td>0.116438</td>\n",
       "      <td>0.054795</td>\n",
       "      <td>0.085142</td>\n",
       "      <td>0.017668</td>\n",
       "      <td>0.511811</td>\n",
       "      <td>0.125749</td>\n",
       "      <td>0.784615</td>\n",
       "    </tr>\n",
       "  </tbody>\n",
       "</table>\n",
       "<p>1071 rows × 8 columns</p>\n",
       "</div>"
      ],
      "text/plain": [
       "      fixed acidity  volatile acidity  residual sugar  chlorides  \\\n",
       "0          0.690265          0.157534        0.116438   0.111853   \n",
       "1          0.185841          0.431507        0.102740   0.110184   \n",
       "2          0.176991          0.349315        0.232877   0.135225   \n",
       "3          0.566372          0.123288        0.082192   0.070117   \n",
       "4          0.336283          0.428082        0.068493   0.130217   \n",
       "...             ...               ...             ...        ...   \n",
       "1066       0.398230          0.328767        0.068493   0.076795   \n",
       "1067       0.318584          0.352740        0.082192   0.101836   \n",
       "1068       0.230088          0.342466        0.123288   0.108514   \n",
       "1069       0.292035          0.054795        0.054795   0.070117   \n",
       "1070       0.106195          0.116438        0.054795   0.085142   \n",
       "\n",
       "      total sulfur dioxide        pH  sulphates   alcohol  \n",
       "0                 0.222615  0.299213   0.251497  0.307692  \n",
       "1                 0.091873  0.637795   0.167665  0.676923  \n",
       "2                 0.252650  0.362205   0.071856  0.169231  \n",
       "3                 0.045936  0.448819   0.329341  0.323077  \n",
       "4                 0.201413  0.354331   0.293413  0.184615  \n",
       "...                    ...       ...        ...       ...  \n",
       "1066              0.014134  0.346457   0.179641  0.307692  \n",
       "1067              0.190813  0.433071   0.251497  0.384615  \n",
       "1068              0.279152  0.606299   0.125749  0.169231  \n",
       "1069              0.031802  0.456693   0.281437  0.538462  \n",
       "1070              0.017668  0.511811   0.125749  0.784615  \n",
       "\n",
       "[1071 rows x 8 columns]"
      ]
     },
     "execution_count": 47,
     "metadata": {},
     "output_type": "execute_result"
    }
   ],
   "source": [
    "drop_features = [\"citric acid\", \"density\", \"free sulfur dioxide\"]\n",
    "\n",
    "redwine_df = redwine_x.copy()\n",
    "redwine_x_fs = redwine_df.drop(drop_features, axis=1)\n",
    "\n",
    "redwine_x_fs"
   ]
  },
  {
   "attachments": {},
   "cell_type": "markdown",
   "metadata": {},
   "source": [
    "#### **Checking the F1-score of the new dataset**"
   ]
  },
  {
   "cell_type": "code",
   "execution_count": 49,
   "metadata": {},
   "outputs": [
    {
     "name": "stdout",
     "output_type": "stream",
     "text": [
      "Initial F1 score: 0.2965068284440013\n",
      "New F1 score: 0.35668385633823424\n"
     ]
    }
   ],
   "source": [
    "redwine_y = pd.read_csv(\"../datasets/redwine_y.csv\")\n",
    "\n",
    "x_train_1, x_test_1, y_train_1, y_test_1 = train_test_split(redwine_x_fs, redwine_y['label'], test_size=0.2, random_state=0)\n",
    "\n",
    "dtree_model_1 = DecisionTreeClassifier(random_state=0).fit(x_train_1, y_train_1)\n",
    "dtree_predictions_1 = dtree_model_1.predict(x_test_1)\n",
    "\n",
    "print(\"Initial F1 score: {}\".format(f1_score(y_test, dtree_predictions, average=\"macro\")))\n",
    "print(\"New F1 score: {}\".format(f1_score(y_test_1, dtree_predictions_1, average=\"macro\")))"
   ]
  },
  {
   "attachments": {},
   "cell_type": "markdown",
   "metadata": {},
   "source": [
    "Our new model's **f1-score** is **`6%`** higher than our previous model."
   ]
  },
  {
   "attachments": {},
   "cell_type": "markdown",
   "metadata": {},
   "source": [
    "#### **C. Hyperparameter tuning**"
   ]
  },
  {
   "cell_type": "code",
   "execution_count": 50,
   "metadata": {},
   "outputs": [
    {
     "name": "stdout",
     "output_type": "stream",
     "text": [
      "Best Params:  {'criterion': 'gini', 'max_depth': 10, 'max_features': 0.9, 'min_samples_leaf': 15, 'min_samples_split': 2}\n",
      "Best Score:  0.5969808241534068\n"
     ]
    }
   ],
   "source": [
    "from sklearn.model_selection import GridSearchCV\n",
    "\n",
    "parameters ={'max_depth': [10, 20, 30, 40, 50, 60, 70, 80, 90, 100],\n",
    "     'criterion' : ['gini', 'entropy'],\n",
    "     'max_features': [0.3,0.5,0.7,0.9],\n",
    "     'min_samples_leaf': [3,5,7,10,15],\n",
    "     'min_samples_split': [2,5,10]}\n",
    "\n",
    "\n",
    "grid_search = DecisionTreeClassifier(random_state=0)\n",
    "grid_search = GridSearchCV(\n",
    "    grid_search, \n",
    "    parameters, \n",
    "    cv=5,\n",
    "    scoring='accuracy',n_jobs=-1)\n",
    "\n",
    "grid_result= grid_search.fit(x_train_1, y_train_1)\n",
    "print('Best Params: ', grid_result.best_params_)\n",
    "print('Best Score: ', grid_result.best_score_)"
   ]
  },
  {
   "attachments": {},
   "cell_type": "markdown",
   "metadata": {},
   "source": [
    "Making new predictions based on the given parameters:"
   ]
  },
  {
   "cell_type": "code",
   "execution_count": 51,
   "metadata": {},
   "outputs": [
    {
     "name": "stdout",
     "output_type": "stream",
     "text": [
      "Initial F1 score: 0.2746346843121037\n",
      "New F1 score: 0.3444046604148906\n"
     ]
    }
   ],
   "source": [
    "dtree_model = DecisionTreeClassifier(criterion = 'gini', max_depth = 10, max_features = 0.9, min_samples_leaf = 15, min_samples_split = 2, random_state=0).fit(x_train, y_train)\n",
    "dtree_predictions = dtree_model.predict(x_test)\n",
    "\n",
    "dtree_model_1 = DecisionTreeClassifier(criterion = 'gini', max_depth = 10, max_features = 0.9, min_samples_leaf = 15, min_samples_split = 2, random_state=0).fit(x_train_1, y_train_1)\n",
    "dtree_predictions_1 = dtree_model_1.predict(x_test_1)\n",
    "\n",
    "print(\"Initial F1 score: {}\".format(f1_score(y_test, dtree_predictions, average=\"macro\")))\n",
    "print(\"New F1 score: {}\".format(f1_score(y_test_1, dtree_predictions_1, average=\"macro\")))"
   ]
  },
  {
   "attachments": {},
   "cell_type": "markdown",
   "metadata": {},
   "source": [
    "Checking other metrics:"
   ]
  },
  {
   "cell_type": "code",
   "execution_count": 52,
   "metadata": {},
   "outputs": [
    {
     "name": "stdout",
     "output_type": "stream",
     "text": [
      "Old accuracy scores:0.6046511627906976\n",
      "New accuracy scores:0.3488372093023256\n",
      "\n",
      "Old f1 score: 0.2746346843121037\n",
      "New f1 score: 0.3444046604148906\n",
      "\n",
      "Old precision scores:0.2692982456140351\n",
      "New precision scores:0.12631687667837224\n",
      "\n",
      "Old recall score: 0.28132598939208486\n",
      "New recall score: 0.3382446500867554\n",
      "\n"
     ]
    }
   ],
   "source": [
    "from sklearn.metrics import f1_score, accuracy_score, precision_score, recall_score\n",
    "\n",
    "print('Old accuracy scores:{}'.format(accuracy_score(y_test, dtree_predictions)))\n",
    "print('New accuracy scores:{}\\n'.format(accuracy_score(y_test, dtree_predictions_1)))\n",
    "\n",
    "print(\"Old f1 score: {}\".format(f1_score(y_test, dtree_predictions, average=\"macro\")))\n",
    "print(\"New f1 score: {}\\n\".format(f1_score(y_test_1, dtree_predictions_1, average=\"macro\")))\n",
    "\n",
    "print('Old precision scores:{}'.format(precision_score(y_test, dtree_predictions, average=\"macro\", zero_division=0)))\n",
    "print('New precision scores:{}\\n'.format(precision_score(y_test, dtree_predictions_1, average=\"macro\", zero_division=0)))\n",
    "\n",
    "print(\"Old recall score: {}\".format(recall_score(y_test, dtree_predictions, average=\"macro\", zero_division=0)))\n",
    "print(\"New recall score: {}\\n\".format(recall_score(y_test_1, dtree_predictions_1, average=\"macro\", zero_division=0)))"
   ]
  },
  {
   "attachments": {},
   "cell_type": "markdown",
   "metadata": {},
   "source": [
    "#### **End. Thank you!**"
   ]
  }
 ],
 "metadata": {
  "kernelspec": {
   "display_name": "Python 3",
   "language": "python",
   "name": "python3"
  },
  "language_info": {
   "codemirror_mode": {
    "name": "ipython",
    "version": 3
   },
   "file_extension": ".py",
   "mimetype": "text/x-python",
   "name": "python",
   "nbconvert_exporter": "python",
   "pygments_lexer": "ipython3",
   "version": "3.9.13"
  },
  "orig_nbformat": 4,
  "vscode": {
   "interpreter": {
    "hash": "2a6b0c74c6eaafdf66aa7b1ab6373931428ddf1717fa02d63a8943298b247f6d"
   }
  }
 },
 "nbformat": 4,
 "nbformat_minor": 2
}
